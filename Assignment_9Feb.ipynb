{
 "cells": [
  {
   "cell_type": "markdown",
   "id": "7f9a35c1",
   "metadata": {},
   "source": [
    "# Q1, Create a vehicle class with an init method having instance variables as name_of_vehicle, max_speed and average_of_vehicle."
   ]
  },
  {
   "cell_type": "code",
   "execution_count": 23,
   "id": "3018ea60",
   "metadata": {},
   "outputs": [],
   "source": [
    "class Vehicle:\n",
    "\n",
    "    def __init__(self, name_of_vehicle, max_speed, average_of_vehicle):\n",
    "        self.name_of_vehicle =name_of_vehicle\n",
    "        self.max_speed =max_speed\n",
    "        self.average_of_vehicle =average_of_vehicle\n",
    "        \n",
    "# car = Vehicle(\"Mahindra Thar\", 200, 60)\n",
    "\n",
    "# print(\"Vehicle Name- \",car.name_of_vehicle, \"\\nMax Speed -\", car.max_speed, \"\\nAverage Speed -\",car.average_of_vehicle)\n"
   ]
  },
  {
   "cell_type": "markdown",
   "id": "7726e85a",
   "metadata": {},
   "source": [
    "# Q2. Create a child class car from the vehicle class created in Que 1, which will inherit the vehicle class. Create a method named seating_capacity which takes capacity as an argument and returns the name of the vehicle and its seating capacity."
   ]
  },
  {
   "cell_type": "code",
   "execution_count": 27,
   "id": "0214d356",
   "metadata": {},
   "outputs": [
    {
     "name": "stdout",
     "output_type": "stream",
     "text": [
      "Mahindra Thar\n",
      "7\n"
     ]
    }
   ],
   "source": [
    "class Car(Vehicle):\n",
    "   def seating_capacity(self,capacity):\n",
    "    self.capacity = capacity\n",
    "    print(self.name_of_vehicle)\n",
    "    print(self.capacity)\n",
    "mycar = Car(\"Mahindra Thar\", 200, 60)\n",
    "\n",
    "mycar.seating_capacity(7)\n",
    "        \n",
    "    "
   ]
  },
  {
   "cell_type": "markdown",
   "id": "fa088a01",
   "metadata": {},
   "source": [
    "# Q3. What is multiple inheritance? Write a python code to demonstrate multiple inheritance.\n",
    "\n",
    "When a class is derived from more than one base class it is called multiple Inheritance. The derived class inherits all the features of the base case."
   ]
  },
  {
   "cell_type": "code",
   "execution_count": 66,
   "id": "6228f571",
   "metadata": {},
   "outputs": [
    {
     "name": "stdout",
     "output_type": "stream",
     "text": [
      "Teacher is an Employee\n",
      "Employee is a Peson\n",
      "I am a person\n"
     ]
    }
   ],
   "source": [
    "class Person:\n",
    "    def __init__(self):\n",
    "        print(\"I am a person\")\n",
    "        \n",
    "class Employee(Person):\n",
    "    \n",
    "    def __init__(self):\n",
    "        print(\"Employee is a Peson\")\n",
    "        super().__init__()\n",
    "\n",
    "    \n",
    "class Teacher(Employee,Person):\n",
    "    def __init__(self):   \n",
    "        print(\"Teacher is an Employee\")\n",
    "        super().__init__()\n",
    "\n",
    "        \n",
    "Mohan = Teacher()"
   ]
  },
  {
   "cell_type": "markdown",
   "id": "c78b3627",
   "metadata": {},
   "source": [
    "# Q4. What are getter and setter in python? Create a class and create a getter and a setter method in this class.\n",
    "In python, getter and setter are property to ensure tha data encapsulation and often can be used in below conditions:\n",
    "    - We use getters & setters to add validation logic around getting and setting a value.\n",
    "    - To avoid direct access of a class field i.e. private variables cannot be accessed directly or modified by external user.\n"
   ]
  },
  {
   "cell_type": "code",
   "execution_count": 93,
   "id": "3b427da8",
   "metadata": {},
   "outputs": [
    {
     "name": "stdout",
     "output_type": "stream",
     "text": [
      "Red 4\n"
     ]
    }
   ],
   "source": [
    "class car:\n",
    "    def __init__(self):\n",
    "        self.color=\"\"\n",
    "        self.seating_capacity=0\n",
    "    \n",
    "    @property\n",
    "    def get_color(self):\n",
    "        return self.color\n",
    "\n",
    "        \n",
    "    @get_color.setter\n",
    "    def get_color(self,color):\n",
    "        return self.color\n",
    "    \n",
    "    @property\n",
    "    def get_seating_capacity(self):\n",
    "        return self.seating_capacity\n",
    "    \n",
    "    @get_seating_capacity.setter\n",
    "    def get_seating_capacity(self,seating_capacity):\n",
    "         self.seating_capacity =seating_capacity\n",
    "    \n",
    "car1 = car()\n",
    "\n",
    "car1.get_seating_capacity = 4\n",
    "car1.color = \"Red\"\n",
    "\n",
    "print(car1.get_color,car1.get_seating_capacity)\n",
    "        \n",
    "        "
   ]
  },
  {
   "cell_type": "markdown",
   "id": "613839af",
   "metadata": {},
   "source": [
    "# Q5.What is method overriding in python? Write a python code to demonstrate method overriding.\n",
    "\n",
    "Method overriding is the ability ability of Object oriented language that allows a subclass/childclass to provide a specific implementation of a method already defined in superclass. "
   ]
  },
  {
   "cell_type": "code",
   "execution_count": 120,
   "id": "888fce03",
   "metadata": {},
   "outputs": [
    {
     "name": "stdout",
     "output_type": "stream",
     "text": [
      "This is DOG class\n",
      "2\n"
     ]
    }
   ],
   "source": [
    "class Animal:\n",
    "    def __init__(self):\n",
    "        self.legs = 0\n",
    "    \n",
    "    @property\n",
    "    def get_legs(self):\n",
    "        return self.legs\n",
    "    \n",
    "    @get_legs.setter\n",
    "    def get_legs(self, legs):\n",
    "        print(\"This is DOG Animal\") #DOG has 'n' legs :- typically 4 legs\n",
    "        self.legs = legs\n",
    "        \n",
    "class Dog(Animal):\n",
    "\n",
    "    def get_legs(self,legs):\n",
    "        print(\"This is DOG class\")\n",
    "        self.get_legs = int(legs/2) #DOG has 'n/2' legs :- typically 2 legs\n",
    "        \n",
    "mydog = Dog()\n",
    "\n",
    "mydog.get_legs(4)\n",
    "print(mydog.get_legs)\n",
    "\n",
    "\n"
   ]
  },
  {
   "cell_type": "code",
   "execution_count": null,
   "id": "ad0031e7",
   "metadata": {},
   "outputs": [],
   "source": []
  },
  {
   "cell_type": "code",
   "execution_count": null,
   "id": "7a7e2294",
   "metadata": {},
   "outputs": [],
   "source": []
  }
 ],
 "metadata": {
  "kernelspec": {
   "display_name": "Python 3 (ipykernel)",
   "language": "python",
   "name": "python3"
  },
  "language_info": {
   "codemirror_mode": {
    "name": "ipython",
    "version": 3
   },
   "file_extension": ".py",
   "mimetype": "text/x-python",
   "name": "python",
   "nbconvert_exporter": "python",
   "pygments_lexer": "ipython3",
   "version": "3.9.13"
  }
 },
 "nbformat": 4,
 "nbformat_minor": 5
}
