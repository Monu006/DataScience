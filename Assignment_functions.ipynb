{
 "cells": [
  {
   "cell_type": "markdown",
   "id": "eb0f3ac3",
   "metadata": {},
   "source": [
    "# Q1. Which keyword is used to create a function? Create a function to return a list of odd numbers in the range of 1 to 25.\n",
    "\n",
    "def keyword is used to create a function defination."
   ]
  },
  {
   "cell_type": "code",
   "execution_count": 42,
   "id": "46166182",
   "metadata": {},
   "outputs": [
    {
     "name": "stdout",
     "output_type": "stream",
     "text": [
      "[1, 3, 5, 7, 9, 11, 13, 15, 17, 19, 21, 23]\n"
     ]
    }
   ],
   "source": [
    "def get_odd():\n",
    "    l=[]\n",
    "    \n",
    "    for i in range(1,25):\n",
    "        if i%2 !=0:\n",
    "            l.append(i)\n",
    "    return l\n",
    "print(get_odd())"
   ]
  },
  {
   "cell_type": "markdown",
   "id": "4ee6e453",
   "metadata": {},
   "source": [
    "# Q2. Why *args and **kwargs is used in some functions? Create a function each for *args and **kwargs to demonstrate their use.\n",
    "\n",
    "*args is used to pass a variable number of arguments in a function, where as **kwargs is used to pass a keywaorded variable length argument list."
   ]
  },
  {
   "cell_type": "code",
   "execution_count": 43,
   "id": "5eebe725",
   "metadata": {},
   "outputs": [
    {
     "name": "stdout",
     "output_type": "stream",
     "text": [
      "8\n"
     ]
    }
   ],
   "source": [
    "def sum_num(*args):\n",
    "    sum=0\n",
    "    for i in args:\n",
    "        sum = sum+i\n",
    "    return sum\n",
    "\n",
    "print(sum_num(1,1,1,5))"
   ]
  },
  {
   "cell_type": "code",
   "execution_count": 44,
   "id": "eb91f1b6",
   "metadata": {},
   "outputs": [
    {
     "name": "stdout",
     "output_type": "stream",
     "text": [
      "{'Name': 'Monu', 'Age': 22, 'course': 'DS'}\n"
     ]
    }
   ],
   "source": [
    "def get_details(**kwargs):\n",
    "    return kwargs\n",
    "print(get_details(Name='Monu', Age=22, course=\"DS\"))"
   ]
  },
  {
   "cell_type": "markdown",
   "id": "b67af3a4",
   "metadata": {},
   "source": [
    "# Q3. What is an iterator in python? Name the method used to initialise the iterator object and the method used for iteration. Use these methods to print the first five elements of the given list [2, 4, 6, 8, 10, 12, 14, 16, 18, 20].\n",
    "\n",
    " iterator is an object that is used to iterate over iterable objects like lists, tuples, dicts, and sets. \n",
    " '__iter__()': The iter() method is called for the initialization of an iterator. This returns an iterator object.\n",
    " '__next__()': The next method returns the next value for the iterable. "
   ]
  },
  {
   "cell_type": "code",
   "execution_count": 48,
   "id": "86dab028",
   "metadata": {},
   "outputs": [],
   "source": [
    "alist = [2, 4, 6, 8, 10, 12, 14, 16, 18, 20]\n",
    "def get_val(nums):\n",
    "    for i in nums:\n",
    "        yield i\n",
    "obj = iter(get_val(alist)) # initialization of iterator"
   ]
  },
  {
   "cell_type": "code",
   "execution_count": 49,
   "id": "ddeef4e1",
   "metadata": {},
   "outputs": [
    {
     "name": "stdout",
     "output_type": "stream",
     "text": [
      "2\n",
      "4\n",
      "6\n"
     ]
    }
   ],
   "source": [
    "print(next(obj)) #next() method to iterate.\n",
    "print(next(obj))#we can use a loop here\n",
    "print(next(obj))"
   ]
  },
  {
   "cell_type": "markdown",
   "id": "2b0811fa",
   "metadata": {},
   "source": [
    "# Q4. What is a generator function in python? Why yield keyword is used? Give an example of a generator function.\n",
    "\n",
    "Generator function is a special memory efficient type of function. Which can be created by using 'yield' keyword, below is the one example of generator function using yield keyword that will generate list cube of given list."
   ]
  },
  {
   "cell_type": "code",
   "execution_count": 77,
   "id": "ca4e13c6",
   "metadata": {},
   "outputs": [
    {
     "name": "stdout",
     "output_type": "stream",
     "text": [
      "8\n",
      "27\n",
      "64\n",
      "125\n",
      "216\n"
     ]
    }
   ],
   "source": [
    "list_1 = [2,3,4,5,6]\n",
    "def cube(nlist):\n",
    "    for i in nlist:\n",
    "        i=i*i*i\n",
    "        yield i\n",
    "        \n",
    "for i in cube(list_1):\n",
    "    print(i)"
   ]
  },
  {
   "cell_type": "markdown",
   "id": "644528fd",
   "metadata": {},
   "source": [
    "# Q5. Create a generator function for prime numbers less than 1000. Use the next() method to print the first 20 prime numbers."
   ]
  },
  {
   "cell_type": "code",
   "execution_count": 103,
   "id": "7fedffc8",
   "metadata": {},
   "outputs": [
    {
     "name": "stdout",
     "output_type": "stream",
     "text": [
      "3\n",
      "5\n",
      "5\n",
      "5\n",
      "7\n",
      "7\n",
      "7\n",
      "7\n",
      "7\n",
      "9\n",
      "11\n",
      "11\n",
      "11\n",
      "11\n",
      "11\n",
      "11\n",
      "11\n",
      "11\n",
      "11\n",
      "13\n"
     ]
    }
   ],
   "source": [
    "def gen_prime():\n",
    "    primes = []\n",
    "    for i in range(1,20):\n",
    "        if i>1:\n",
    "            for j in range(2,i):\n",
    "                if i%j==0:\n",
    "                    break\n",
    "                else:\n",
    "                    primes.append(i)\n",
    "                    yield i\n",
    "                \n",
    "prime = prime\n",
    "for i in range(20):\n",
    "    print(next(obj))\n"
   ]
  },
  {
   "cell_type": "code",
   "execution_count": null,
   "id": "ff072cac",
   "metadata": {},
   "outputs": [],
   "source": []
  },
  {
   "cell_type": "code",
   "execution_count": null,
   "id": "aaddb460",
   "metadata": {},
   "outputs": [],
   "source": []
  }
 ],
 "metadata": {
  "kernelspec": {
   "display_name": "Python 3 (ipykernel)",
   "language": "python",
   "name": "python3"
  },
  "language_info": {
   "codemirror_mode": {
    "name": "ipython",
    "version": 3
   },
   "file_extension": ".py",
   "mimetype": "text/x-python",
   "name": "python",
   "nbconvert_exporter": "python",
   "pygments_lexer": "ipython3",
   "version": "3.9.13"
  }
 },
 "nbformat": 4,
 "nbformat_minor": 5
}
