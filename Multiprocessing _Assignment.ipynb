{
 "cells": [
  {
   "cell_type": "markdown",
   "id": "b34f56df",
   "metadata": {},
   "source": [
    "# Q1. What is multiprocessing in python? Why is it useful?"
   ]
  },
  {
   "cell_type": "markdown",
   "id": "9bc15dd4",
   "metadata": {},
   "source": [
    "In Python, Multiprocessing is a package in python that allows run multiple processes simultaneously, by breaking down a task into smaller multiple task that independently."
   ]
  },
  {
   "cell_type": "markdown",
   "id": "94de857c",
   "metadata": {},
   "source": [
    "# Q2. What are the differences between multiprocessing and multithreading?"
   ]
  },
  {
   "cell_type": "markdown",
   "id": "8914055f",
   "metadata": {},
   "source": [
    "- Multiprocessing uses two or more CPU to increase the computing power of a system. Wiith multiprocessing we run multiple processes simultaneously.\n",
    "- Multithreading is a system in which multiple threads are created of a process for increasing the computing speed. In other words a process is broken down in multiple thread that helps increase sompiuting speed. In multithreading, multiple thread is being executed simultenously."
   ]
  },
  {
   "cell_type": "markdown",
   "id": "49b575ab",
   "metadata": {},
   "source": [
    "# Q3. Write a python code to create a process using the multiprocessing module."
   ]
  },
  {
   "cell_type": "code",
   "execution_count": 4,
   "id": "e8e651fe",
   "metadata": {},
   "outputs": [
    {
     "name": "stdout",
     "output_type": "stream",
     "text": [
      "This is outer process\n",
      "this is main process\n"
     ]
    }
   ],
   "source": [
    "import multiprocessing\n",
    "\n",
    "def task():\n",
    "    print(\"This is outer process\")\n",
    "\n",
    "if __name__=='__main__':\n",
    "    m = multiprocessing.Process(target=task())\n",
    "    print(\"this is main process\")\n",
    "    m.start()\n",
    "    m.join()"
   ]
  },
  {
   "cell_type": "markdown",
   "id": "caa1f09a",
   "metadata": {},
   "source": [
    "# Q4. What is a multiprocessing pool in python? Why is it used?"
   ]
  },
  {
   "cell_type": "markdown",
   "id": "c962e82d",
   "metadata": {},
   "source": [
    "In multiprocessing, pool allows you create manage multiple pools with help of that we execute a function across multiple input values distributing the input data across processes."
   ]
  },
  {
   "cell_type": "markdown",
   "id": "9f82672a",
   "metadata": {},
   "source": [
    "# Q5. How can we create a pool of worker processes in python using the multiprocessing module?"
   ]
  },
  {
   "cell_type": "markdown",
   "id": "78c47359",
   "metadata": {},
   "source": [
    "below is the example of executing process with help of pool."
   ]
  },
  {
   "cell_type": "code",
   "execution_count": null,
   "id": "b0cb7df9",
   "metadata": {},
   "outputs": [],
   "source": [
    "import multiprocessing\n",
    "\n",
    "def task(n):\n",
    "    return n**2\n",
    "\n",
    "if __name__=='__main__':\n",
    "    with multiprocessing.Pool(processes=5) as pool:\n",
    "        out = pool.map(task,[1,2,3,4,5])\n",
    "    print(list(out))"
   ]
  },
  {
   "cell_type": "code",
   "execution_count": 3,
   "id": "b59b760b",
   "metadata": {},
   "outputs": [],
   "source": [
    "import multiprocessing\n",
    "def printnum(index, value):\n",
    "    print(value[index])\n",
    "    \n",
    "if __name__ =='__main__':\n",
    "  arr = multiprocessing.Array('i', [1,2,3,4])\n",
    "  process = []\n",
    "  for i in range(4):\n",
    "    m = multiprocessing.Process(target=printnum,args=(i,arr))\n",
    "    process.append(m)\n",
    "    m.start()\n",
    "    for m in process:\n",
    "      m.join()"
   ]
  },
  {
   "cell_type": "code",
   "execution_count": null,
   "id": "4ca3de9d",
   "metadata": {},
   "outputs": [],
   "source": []
  }
 ],
 "metadata": {
  "kernelspec": {
   "display_name": "Python 3 (ipykernel)",
   "language": "python",
   "name": "python3"
  },
  "language_info": {
   "codemirror_mode": {
    "name": "ipython",
    "version": 3
   },
   "file_extension": ".py",
   "mimetype": "text/x-python",
   "name": "python",
   "nbconvert_exporter": "python",
   "pygments_lexer": "ipython3",
   "version": "3.9.13"
  }
 },
 "nbformat": 4,
 "nbformat_minor": 5
}
