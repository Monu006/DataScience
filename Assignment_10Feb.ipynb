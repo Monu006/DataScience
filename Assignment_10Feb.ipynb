{
 "cells": [
  {
   "cell_type": "markdown",
   "id": "9df25a06",
   "metadata": {},
   "source": [
    "# Q1. Which function is used to open a file? What are the different modes of opening a file? Explain each mode of file opening."
   ]
  },
  {
   "cell_type": "raw",
   "id": "36cf363a",
   "metadata": {},
   "source": [
    "File can be open using inbuilt python function 'open()' it takes to inputs, one is filename and another mode that specifies the mode of file in which file is going to be opened for example Read, write, append, etc. below is the exmaple programm."
   ]
  },
  {
   "cell_type": "code",
   "execution_count": 14,
   "id": "f0774f2f",
   "metadata": {},
   "outputs": [],
   "source": [
    "# This code is to open a file in write mode and write some txt\n",
    "f = open(\"hello.txt\",\"w\")\n",
    "f.write(\"Hello this is monu kumar singh\")  \n",
    "f.close()"
   ]
  },
  {
   "cell_type": "code",
   "execution_count": 15,
   "id": "cd1d19cc",
   "metadata": {},
   "outputs": [
    {
     "name": "stdout",
     "output_type": "stream",
     "text": [
      "Hello this is monu kumar singh\n"
     ]
    }
   ],
   "source": [
    "f = open(\"hello.txt\",\"r\") # open a file in read mode \n",
    "print(f.read())\n",
    "f.close()"
   ]
  },
  {
   "cell_type": "markdown",
   "id": "3ee4145a",
   "metadata": {},
   "source": [
    "# Q2. Why close() function is used? Why is it important to close a file?"
   ]
  },
  {
   "cell_type": "raw",
   "id": "6d799b02",
   "metadata": {},
   "source": [
    "close() function is used to disallocate all the resources that have been allocated for some logical operations. It is important to dis-allocate all the resources that have been used for the logical operation in some cases this may cause error in data."
   ]
  },
  {
   "cell_type": "markdown",
   "id": "206b8d15",
   "metadata": {},
   "source": [
    "# Q3. Write a python program to create a text file. Write ‘I want to become a Data Scientist’ in that file. Then close the file. Open this file and read the content of the file."
   ]
  },
  {
   "cell_type": "code",
   "execution_count": 16,
   "id": "9addad93",
   "metadata": {},
   "outputs": [
    {
     "name": "stdout",
     "output_type": "stream",
     "text": [
      "I want to become a data scientist\n"
     ]
    }
   ],
   "source": [
    "\n",
    "f = open(\"my.txt\",\"w\")\n",
    "f.write(\"I want to become a data scientist\")  \n",
    "f.close()\n",
    "\n",
    "f = open(\"my.txt\",\"r\") # open a file in read mode \n",
    "print(f.read())\n",
    "f.close()"
   ]
  },
  {
   "cell_type": "markdown",
   "id": "ed1bea1e",
   "metadata": {},
   "source": [
    "# Q4. Explain the following with python code: read(), readline() and readlines()."
   ]
  },
  {
   "cell_type": "markdown",
   "id": "c51ed1a6",
   "metadata": {},
   "source": [
    "*read()* - It retrun the read bytes in form of string of size n, if n is not defined it returns whole bytes in form of string.\n",
    "\n",
    "*readline()* - It return one line of a string at a time, readline() function can not read more than 1 line at a time and retuns a line until newline character.\n",
    " \n",
    " *readlines()* -  Reads all the lines and returns them as a string element in a list. Readlines ( ) is used to read all the lines at a single go and then return them as a string element in a list. \n"
   ]
  },
  {
   "cell_type": "markdown",
   "id": "e991c6b7",
   "metadata": {},
   "source": [
    "# Q5. Explain why with statement is used with open(). What is the advantage of using with statement and open() together?"
   ]
  },
  {
   "cell_type": "raw",
   "id": "b9f0c6eb",
   "metadata": {},
   "source": [
    "with statement is used with open() to files with in it's scope and read and write operations can be performed with the same. Advantage of it is we need not to close() as we do when we opens with only using open() function."
   ]
  },
  {
   "cell_type": "code",
   "execution_count": 22,
   "id": "d725dde7",
   "metadata": {},
   "outputs": [
    {
     "name": "stdout",
     "output_type": "stream",
     "text": [
      "Hello this is monu kumar singh\n"
     ]
    }
   ],
   "source": [
    "with open(\"Hello.txt\",\"r\") as file:\n",
    "    print(file.readline())"
   ]
  },
  {
   "cell_type": "markdown",
   "id": "64aafd3e",
   "metadata": {},
   "source": [
    "# Q6. Explain the write() and writelines() functions. Give a suitable example."
   ]
  },
  {
   "cell_type": "code",
   "execution_count": null,
   "id": "365d652c",
   "metadata": {},
   "outputs": [],
   "source": [
    "write() function is used to write content in a file without adding extra characters. whereas writelines() is used to "
   ]
  },
  {
   "cell_type": "code",
   "execution_count": 23,
   "id": "dc8f0a30",
   "metadata": {},
   "outputs": [
    {
     "name": "stdout",
     "output_type": "stream",
     "text": [
      "Enter the name of the employee: Monu\n",
      "Enter the name of the employee: Shrikant\n",
      "Enter the name of the employee: Kulli\n",
      "Data is written into the file.\n"
     ]
    }
   ],
   "source": [
    "\n",
    "file1 = open(\"Employees.txt\", \"w\")\n",
    "lst = []\n",
    "for i in range(3):\n",
    "    name = input(\"Enter the name of the employee: \")\n",
    "    lst.append(name + '\\n')\n",
    "      \n",
    "file1.writelines(lst)\n",
    "file1.close()\n",
    "print(\"Data is written into the file.\")"
   ]
  },
  {
   "cell_type": "code",
   "execution_count": null,
   "id": "152f7057",
   "metadata": {},
   "outputs": [],
   "source": []
  }
 ],
 "metadata": {
  "kernelspec": {
   "display_name": "Python 3 (ipykernel)",
   "language": "python",
   "name": "python3"
  },
  "language_info": {
   "codemirror_mode": {
    "name": "ipython",
    "version": 3
   },
   "file_extension": ".py",
   "mimetype": "text/x-python",
   "name": "python",
   "nbconvert_exporter": "python",
   "pygments_lexer": "ipython3",
   "version": "3.9.13"
  }
 },
 "nbformat": 4,
 "nbformat_minor": 5
}
