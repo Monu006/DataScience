{
 "cells": [
  {
   "cell_type": "markdown",
   "id": "ef92d5e0-4184-4fa7-918e-1519ac417794",
   "metadata": {},
   "source": [
    "# Q1. Explain Class and Object with respect to Object-Oriented Programming. Give a suitable example.\n",
    "\n",
    "In object oriented programming a class is a blueprint or prototype from which an object is being create. A class provides a means bundling data and functionality together."
   ]
  },
  {
   "cell_type": "code",
   "execution_count": 2,
   "id": "25f694a5-9c41-48bf-9b9d-624d65245405",
   "metadata": {},
   "outputs": [
    {
     "data": {
      "text/plain": [
       "('Monu', 22, 180, 72)"
      ]
     },
     "execution_count": 2,
     "metadata": {},
     "output_type": "execute_result"
    }
   ],
   "source": [
    "class Person:\n",
    "    \n",
    "    def __init__(self, name, age, hight, weight):\n",
    "        self.name= name\n",
    "        self.age = age\n",
    "        self.hight = hight\n",
    "        self.weight =weight\n",
    "        \n",
    "        \n",
    "    def get_details(self):\n",
    "        return self.name, self.age, self.hight, self.weight\n",
    "    \n",
    "monu = Person(\"Monu\",22, 180, 72)\n",
    "\n",
    "monu.get_details()\n",
    "        "
   ]
  },
  {
   "cell_type": "markdown",
   "id": "330ed950-3c19-46eb-a4ab-83d5e0ab1a34",
   "metadata": {},
   "source": [
    "# Q2. Name the four pillars of OOPs.\n",
    "four pillars of object oriented programming are:\n",
    "- Encapsulation\n",
    "- Inheritance\n",
    "- Polymorphism\n",
    "- Abstraction\n"
   ]
  },
  {
   "cell_type": "markdown",
   "id": "19b608f1-5c7d-4f96-b059-b597c503382e",
   "metadata": {},
   "source": [
    "# Q3. Explain why the __init__() function is used. Give a suitable example.\n",
    "- __init__() is an constructor of any class it is the very first code that is being executed while we create an object of desired class. "
   ]
  },
  {
   "cell_type": "markdown",
   "id": "5e9b2d18-985e-416a-bf8a-6007238a987f",
   "metadata": {},
   "source": [
    "# Q4. Why self is used in OOPs?\n",
    "Self is a pointer variable that points to the current object of the class."
   ]
  },
  {
   "cell_type": "markdown",
   "id": "61ea4780-f16b-432a-86db-637ada5df2df",
   "metadata": {},
   "source": [
    "# Q5. What is inheritance? Give an example for each type of inheritance.\n",
    "In object oriented programming Inheritance is a phenomena of inherting functions, variable or properties from one class to another class. In Python programming there are 5 type of inheritance.\n",
    "- Single level Inheritance\n",
    "- Multiple Inheritance\n",
    "- Multilevel Inheritance\n",
    "- Hierarchical Inheritance\n",
    "- Hybrid inheritance"
   ]
  }
 ],
 "metadata": {
  "kernelspec": {
   "display_name": "Python 3 (ipykernel)",
   "language": "python",
   "name": "python3"
  },
  "language_info": {
   "codemirror_mode": {
    "name": "ipython",
    "version": 3
   },
   "file_extension": ".py",
   "mimetype": "text/x-python",
   "name": "python",
   "nbconvert_exporter": "python",
   "pygments_lexer": "ipython3",
   "version": "3.10.8"
  }
 },
 "nbformat": 4,
 "nbformat_minor": 5
}
