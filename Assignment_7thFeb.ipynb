{
 "cells": [
  {
   "cell_type": "markdown",
   "id": "8b97ad5f",
   "metadata": {},
   "source": [
    "# Q1. Write a program to accept percentage from the user and display the grade according to the following"
   ]
  },
  {
   "cell_type": "code",
   "execution_count": 3,
   "id": "f1db5c64",
   "metadata": {},
   "outputs": [
    {
     "name": "stdout",
     "output_type": "stream",
     "text": [
      "Enter your Marks:\n",
      "75\n",
      "Good! You got 'C' Grade:\n"
     ]
    }
   ],
   "source": [
    "marks = int(input(\"Enter your Marks:\\n\"))\n",
    "if marks > 90:\n",
    "    print(\"Congrats!! You got 'A' Grade:\")\n",
    "elif (marks <= 90 and marks >80):\n",
    "    print(\"Excellent!! You got 'B' Grade:\")\n",
    "elif (marks>=60 and marks<=80):\n",
    "    print(\"Good! You got 'C' Grade:\")\n",
    "elif (marks<60):\n",
    "    print(\"Do Hard work! you got 'D' Grade\")\n",
    "else:\n",
    "    print('Seems Invalid Input!!')"
   ]
  },
  {
   "cell_type": "markdown",
   "id": "bafb5999",
   "metadata": {},
   "source": [
    "# Q2. Write a program to accept the cost price of a bike and display the road tax to be paid according to the following criteria "
   ]
  },
  {
   "cell_type": "code",
   "execution_count": 1,
   "id": "ed60218c",
   "metadata": {},
   "outputs": [
    {
     "name": "stdout",
     "output_type": "stream",
     "text": [
      "Enter the cost of your bike:\n",
      "52220\n",
      "Your road tax would be 10% :  5222.0\n"
     ]
    }
   ],
   "source": [
    "cost = int(input(\"Enter the cost of your bike:\\n\"))\n",
    "if cost > 100000:\n",
    "    print(\"Your road tax would be 15% : \",0.15*cost)\n",
    "elif (cost > 50000 and cost <= 100000):\n",
    "    print(\"Your road tax would be 10% : \",0.10*cost)\n",
    "elif (cost <= 50000):\n",
    "    print(\"Your road tax would be 5% : \",0.05*cost)\n",
    "else:\n",
    "    print('Seems Invalid Input!!')"
   ]
  },
  {
   "cell_type": "markdown",
   "id": "f4566464",
   "metadata": {},
   "source": [
    "# Q3. Accept any city from the user and display monuments of that city. "
   ]
  },
  {
   "cell_type": "code",
   "execution_count": 4,
   "id": "0190a993",
   "metadata": {},
   "outputs": [
    {
     "name": "stdout",
     "output_type": "stream",
     "text": [
      "Enter the city:\n",
      "Agra\n",
      "Monument is TAJ MAHAL\n"
     ]
    }
   ],
   "source": [
    "city = input(\"Enter the city:\\n\").lower()\n",
    "\n",
    "if (city == 'delhi'):\n",
    "    print(\"Monument is RED FORT\")\n",
    "elif (city == 'agra'):\n",
    "    print(\"Monument is TAJ MAHAL\")\n",
    "elif (city == 'jaipur'):\n",
    "    print(\"Monument is JAL MAHAL\")\n",
    "else:\n",
    "    print('City not found in database:')"
   ]
  },
  {
   "cell_type": "markdown",
   "id": "cd42806e",
   "metadata": {},
   "source": [
    "# Q4. Check how many times a given number can be divided by 3 before it is less than or equal to 10. "
   ]
  },
  {
   "cell_type": "code",
   "execution_count": 15,
   "id": "57233c07",
   "metadata": {},
   "outputs": [
    {
     "name": "stdout",
     "output_type": "stream",
     "text": [
      "Enter the number\n",
      "600\n",
      "You can divide 600 by 3 for 4 times until qotient is greater than 10\n"
     ]
    }
   ],
   "source": [
    "cnumber= number = int(input(\"Enter the number\\n\"))\n",
    "count=0\n",
    "if (number<10):\n",
    "    print(\"Number should be a positive integer greater than 10\")\n",
    "else:\n",
    "    while number>=10:\n",
    "            number=number/3\n",
    "            count+=1\n",
    "\n",
    "print(f\"You can divide {cnumber} by 3 for {count} times until qotient is greater than 10\")\n",
    "        "
   ]
  },
  {
   "cell_type": "code",
   "execution_count": null,
   "id": "7582e020",
   "metadata": {},
   "outputs": [],
   "source": []
  }
 ],
 "metadata": {
  "kernelspec": {
   "display_name": "Python 3 (ipykernel)",
   "language": "python",
   "name": "python3"
  },
  "language_info": {
   "codemirror_mode": {
    "name": "ipython",
    "version": 3
   },
   "file_extension": ".py",
   "mimetype": "text/x-python",
   "name": "python",
   "nbconvert_exporter": "python",
   "pygments_lexer": "ipython3",
   "version": "3.9.13"
  }
 },
 "nbformat": 4,
 "nbformat_minor": 5
}
