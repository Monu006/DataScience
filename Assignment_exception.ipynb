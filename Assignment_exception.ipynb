{
 "cells": [
  {
   "cell_type": "markdown",
   "id": "22ccd7e6",
   "metadata": {},
   "source": [
    "# Q1. What is an Exception in python? Write the difference between Exceptions and syntax errors"
   ]
  },
  {
   "cell_type": "raw",
   "id": "7db827b2",
   "metadata": {},
   "source": [
    "In python, exception is an event that occurs during the execution of program that distrupts the normal flow of program. We have try to handle exceptions using try except block, below is the example o"
   ]
  },
  {
   "cell_type": "code",
   "execution_count": 8,
   "id": "cb067072",
   "metadata": {},
   "outputs": [
    {
     "name": "stdout",
     "output_type": "stream",
     "text": [
      "Enter Number:7\n",
      "0.5714285714285714\n",
      "Important code: \n"
     ]
    }
   ],
   "source": [
    "try:\n",
    "    #subpecious code that can create some kind of exception\n",
    "    num = int(input(\"Enter Number:\"))\n",
    "    quotient =  4/num\n",
    "    print(quotient)\n",
    "    \n",
    "except Exception as e:\n",
    "    \n",
    "    #if user would enter some invalid input except block will run\n",
    "    print(\"Something went wrong\", e)\n",
    "    \n",
    "print(\"Important code: \")\n",
    "    "
   ]
  },
  {
   "cell_type": "markdown",
   "id": "7b957f43",
   "metadata": {},
   "source": [
    "# Q2. What happens when an exception is not handled? Explain with an example."
   ]
  },
  {
   "cell_type": "raw",
   "id": "ca60da7e",
   "metadata": {},
   "source": [
    "When an exception is not handled manually, the program ends abruptly, which can cause big errors. It's possible that some important lines of code may not execute as a result. The following example illustrates this point."
   ]
  },
  {
   "cell_type": "code",
   "execution_count": 10,
   "id": "a97d72a3",
   "metadata": {},
   "outputs": [
    {
     "name": "stdout",
     "output_type": "stream",
     "text": [
      "Enter Number:0\n"
     ]
    },
    {
     "ename": "ZeroDivisionError",
     "evalue": "division by zero",
     "output_type": "error",
     "traceback": [
      "\u001b[1;31m---------------------------------------------------------------------------\u001b[0m",
      "\u001b[1;31mZeroDivisionError\u001b[0m                         Traceback (most recent call last)",
      "\u001b[1;32m~\\AppData\\Local\\Temp\\ipykernel_19232\\127369021.py\u001b[0m in \u001b[0;36m<module>\u001b[1;34m\u001b[0m\n\u001b[0;32m      2\u001b[0m \u001b[1;33m\u001b[0m\u001b[0m\n\u001b[0;32m      3\u001b[0m \u001b[0mnum\u001b[0m \u001b[1;33m=\u001b[0m \u001b[0mint\u001b[0m\u001b[1;33m(\u001b[0m\u001b[0minput\u001b[0m\u001b[1;33m(\u001b[0m\u001b[1;34m\"Enter Number:\"\u001b[0m\u001b[1;33m)\u001b[0m\u001b[1;33m)\u001b[0m\u001b[1;33m\u001b[0m\u001b[1;33m\u001b[0m\u001b[0m\n\u001b[1;32m----> 4\u001b[1;33m \u001b[0mquotient\u001b[0m \u001b[1;33m=\u001b[0m  \u001b[1;36m4\u001b[0m\u001b[1;33m/\u001b[0m\u001b[0mnum\u001b[0m\u001b[1;33m\u001b[0m\u001b[1;33m\u001b[0m\u001b[0m\n\u001b[0m\u001b[0;32m      5\u001b[0m \u001b[0mprint\u001b[0m\u001b[1;33m(\u001b[0m\u001b[0mquotient\u001b[0m\u001b[1;33m)\u001b[0m\u001b[1;33m\u001b[0m\u001b[1;33m\u001b[0m\u001b[0m\n\u001b[0;32m      6\u001b[0m \u001b[1;33m\u001b[0m\u001b[0m\n",
      "\u001b[1;31mZeroDivisionError\u001b[0m: division by zero"
     ]
    }
   ],
   "source": [
    "\n",
    "#subpecious code that can create some kind of exception\n",
    "\n",
    "num = int(input(\"Enter Number:\"))\n",
    "quotient =  4/num\n",
    "print(quotient)\n",
    "    \n",
    "print(\"Important code: \")\n",
    "    "
   ]
  },
  {
   "cell_type": "markdown",
   "id": "8403c0dc",
   "metadata": {},
   "source": [
    "# Q3. Which Python statements are used to catch and handle exceptions? Explain with an example."
   ]
  },
  {
   "cell_type": "raw",
   "id": "e07d26c1",
   "metadata": {},
   "source": [
    "In python, exception can be handled with try and except block, the suspicious code is written in try block and if exception occure it can be handled with except block, below is the illustration of exception hadling with try and except."
   ]
  },
  {
   "cell_type": "code",
   "execution_count": 11,
   "id": "696b1d92",
   "metadata": {},
   "outputs": [
    {
     "name": "stdout",
     "output_type": "stream",
     "text": [
      "Enter Number:0\n",
      "Something went wrong division by zero\n",
      "Important code: \n"
     ]
    }
   ],
   "source": [
    "try:\n",
    "    #suspicious code that can create some kind of exception\n",
    "    num = int(input(\"Enter Number:\"))\n",
    "    quotient =  4/num\n",
    "    print(quotient)\n",
    "    \n",
    "except Exception as e:\n",
    "    \n",
    "    #if user would enter some invalid input except block will run\n",
    "    print(\"Something went wrong\", e)\n",
    "    \n",
    "print(\"Important code: \")\n",
    "    "
   ]
  },
  {
   "cell_type": "markdown",
   "id": "7990097f",
   "metadata": {},
   "source": [
    "# Q4. Explain with an example:\n",
    "- try and else:\n",
    "- finally\n",
    "- raise"
   ]
  },
  {
   "cell_type": "markdown",
   "id": "1b35c6e9",
   "metadata": {},
   "source": [
    "- Else can be used with try block after the except statement, else executes itself after the successful completion of try block. Means if there is not any exception in try block programm will try to execute itself, below is the illustration."
   ]
  },
  {
   "cell_type": "code",
   "execution_count": 13,
   "id": "d77705dc",
   "metadata": {},
   "outputs": [
    {
     "name": "stdout",
     "output_type": "stream",
     "text": [
      "Enter Number:2\n",
      "2.0\n",
      "this code will get executed after successfuly completion of try block:\n",
      "Important code: \n"
     ]
    }
   ],
   "source": [
    "# try and else:\n",
    "try:\n",
    "    #suspicious code that can create some kind of exception\n",
    "    num = int(input(\"Enter Number:\"))\n",
    "    quotient =  4/num\n",
    "    print(quotient)\n",
    "    \n",
    "except Exception as e:\n",
    "    \n",
    "    #if user would enter some invalid input except block will run\n",
    "    print(\"Something went wrong\", e)\n",
    "else:\n",
    "    print(\"This code will get executed after successfuly completion of try block:\")\n",
    "    \n",
    "print(\"Important code: \")\n",
    "\n"
   ]
  },
  {
   "cell_type": "markdown",
   "id": "6d846cf1",
   "metadata": {},
   "source": [
    "- Finally is used when we want to ensure that a specific block of code must be executed regardless of whether an exception was raised or not. In other words, the finally block is guaranteed to be executed in all situations."
   ]
  },
  {
   "cell_type": "code",
   "execution_count": 24,
   "id": "3c6abb4a",
   "metadata": {},
   "outputs": [
    {
     "name": "stdout",
     "output_type": "stream",
     "text": [
      "Enter Number:0\n",
      "Something went wrong division by zero\n",
      "Guranteed code : \n"
     ]
    }
   ],
   "source": [
    "# Finally block\n",
    "\n",
    "try:\n",
    "    #suspicious code that can create some kind of exception\n",
    "    num = int(input(\"Enter Number:\"))\n",
    "    quotient =  4/num\n",
    "    print(quotient)\n",
    "    \n",
    "except Exception as e:\n",
    "    \n",
    "    #if user would enter some invalid input except block will run\n",
    "    print(\"Something went wrong\", e)\n",
    "    \n",
    "finally:  \n",
    "    print(\"Guranteed code : \")"
   ]
  },
  {
   "cell_type": "markdown",
   "id": "f898beb3",
   "metadata": {},
   "source": [
    "- raise keyword is used to flag an exception class, it can be custom exception class or predefined exception class, below is the example of custom exception class with help of raise keyword. "
   ]
  },
  {
   "cell_type": "code",
   "execution_count": 27,
   "id": "85eb3bc8",
   "metadata": {},
   "outputs": [
    {
     "ename": "ValueError",
     "evalue": "x should not be greater than 5",
     "output_type": "error",
     "traceback": [
      "\u001b[1;31m---------------------------------------------------------------------------\u001b[0m",
      "\u001b[1;31mValueError\u001b[0m                                Traceback (most recent call last)",
      "\u001b[1;32m~\\AppData\\Local\\Temp\\ipykernel_19232\\3239811849.py\u001b[0m in \u001b[0;36m<module>\u001b[1;34m\u001b[0m\n\u001b[0;32m      1\u001b[0m \u001b[0mx\u001b[0m \u001b[1;33m=\u001b[0m \u001b[1;36m10\u001b[0m\u001b[1;33m\u001b[0m\u001b[1;33m\u001b[0m\u001b[0m\n\u001b[0;32m      2\u001b[0m \u001b[1;32mif\u001b[0m \u001b[0mx\u001b[0m \u001b[1;33m>\u001b[0m \u001b[1;36m5\u001b[0m\u001b[1;33m:\u001b[0m\u001b[1;33m\u001b[0m\u001b[1;33m\u001b[0m\u001b[0m\n\u001b[1;32m----> 3\u001b[1;33m     \u001b[1;32mraise\u001b[0m \u001b[0mValueError\u001b[0m\u001b[1;33m(\u001b[0m\u001b[1;34m\"x should not be greater than 5\"\u001b[0m\u001b[1;33m)\u001b[0m\u001b[1;33m\u001b[0m\u001b[1;33m\u001b[0m\u001b[0m\n\u001b[0m\u001b[0;32m      4\u001b[0m \u001b[1;33m\u001b[0m\u001b[0m\n",
      "\u001b[1;31mValueError\u001b[0m: x should not be greater than 5"
     ]
    }
   ],
   "source": [
    "x = 10\n",
    "if x > 5:\n",
    "    raise ValueError(\"x should not be greater than 5\")\n",
    "\n"
   ]
  },
  {
   "cell_type": "markdown",
   "id": "8a27e24e",
   "metadata": {},
   "source": [
    "# Q5. What are Custom Exceptions in python? Why do we need Custom Exception? Explain in with an example."
   ]
  },
  {
   "cell_type": "markdown",
   "id": "7e380a94",
   "metadata": {},
   "source": [
    "In python, we can create your own custom exception class by inheriting 'Exception' of it's sub classes and futher we can add custom properties or methods we need for our specific needs, below is the illustration of the same."
   ]
  },
  {
   "cell_type": "code",
   "execution_count": null,
   "id": "e6e50056",
   "metadata": {},
   "outputs": [],
   "source": [
    "class ValidateAge(Exception):\n",
    "    def __init__(self,msg):\n",
    "        self.msg =msg\n",
    "        print(\"ValidateAge exception:\",end=\" \")\n",
    "\n",
    "def validate(age):\n",
    "    if age<0:\n",
    "        raise ValidateAge(\"Age can't be negative\")\n",
    "    elif age>150:\n",
    "        raise ValidateAge(\"Age can't be more than 150 years\")\n",
    "    else:\n",
    "        print (\"Its a valid Age:\")\n",
    "try:\n",
    "    age = int(input(\"Enter a valid age:\"))\n",
    "    validate(age)\n",
    "except ValidateAge as e:\n",
    "    print(e)\n"
   ]
  },
  {
   "cell_type": "markdown",
   "id": "c33da256",
   "metadata": {},
   "source": [
    "# Q6. Create custom exception class. Use this class to handle an exception."
   ]
  },
  {
   "cell_type": "code",
   "execution_count": null,
   "id": "32ce359c",
   "metadata": {},
   "outputs": [],
   "source": [
    "class ValidateAge(Exception):\n",
    "    def __init__(self,msg):\n",
    "        self.msg =msg\n",
    "        print(\"ValidateAge exception:\",end=\" \")\n",
    "\n",
    "def validate(age):\n",
    "    if age<0:\n",
    "        raise ValidateAge(\"Age can't be negative\")\n",
    "    elif age>150:\n",
    "        raise ValidateAge(\"Age can't be more than 150 years\")\n",
    "    else:\n",
    "        print (\"Its a valid Age:\")\n",
    "try:\n",
    "    age = int(input(\"Enter a valid age:\"))\n",
    "    validate(age)\n",
    "except ValidateAge as e:\n",
    "    print(e)\n"
   ]
  }
 ],
 "metadata": {
  "kernelspec": {
   "display_name": "Python 3 (ipykernel)",
   "language": "python",
   "name": "python3"
  },
  "language_info": {
   "codemirror_mode": {
    "name": "ipython",
    "version": 3
   },
   "file_extension": ".py",
   "mimetype": "text/x-python",
   "name": "python",
   "nbconvert_exporter": "python",
   "pygments_lexer": "ipython3",
   "version": "3.9.13"
  }
 },
 "nbformat": 4,
 "nbformat_minor": 5
}
