{
 "cells": [
  {
   "cell_type": "markdown",
   "id": "331a4e52",
   "metadata": {},
   "source": [
    "# Q1. Create a function which will take a list as an argument and return the product of all the numbers after creating a flat list. Use the below-given list as an argument for your function. Note: you must extract numeric keys and values of the dictionary also."
   ]
  },
  {
   "cell_type": "code",
   "execution_count": 89,
   "id": "f7e0d788",
   "metadata": {},
   "outputs": [
    {
     "name": "stdout",
     "output_type": "stream",
     "text": [
      "4134711838987085478833841242112000\n",
      "120\n"
     ]
    }
   ],
   "source": [
    "from functools import reduce\n",
    "\n",
    "alist = [1,2,3,4, [44,55,66, True], False, (34,56,78,89,34), {1,2,3,3,2,1}, {1:34, \"key2\": [55, 67, 78, 89], 4: (45,\n",
    "22, 61, 34)}, [56, 'data science'], 'Machine Learning']\n",
    "\n",
    "small_list = [1,[1,'r,',5],{2,3},{'s':4}]\n",
    "\n",
    "def filter_numbers(list1):\n",
    "    newlist = []\n",
    "    for i in list1:\n",
    "        if type(i) == int:\n",
    "            newlist.append(i)\n",
    "        elif type(i) == list:\n",
    "            for j in i:\n",
    "                if type(j) == int:\n",
    "                    newlist.append(j)\n",
    "        elif type(i) == tuple:\n",
    "            for j in i:\n",
    "                if type(j) == int:\n",
    "                    newlist.append(j)\n",
    "        elif type(i) == set:\n",
    "            for j in i:\n",
    "                if type(j) == int:\n",
    "                    newlist.append(j)\n",
    "        elif type(i) == dict:\n",
    "            \n",
    "            for key,value in i.items():\n",
    "                \n",
    "                         #checking for dictonary keys: of dictonary\n",
    "                if type(key) == int:\n",
    "                    newlist.append(key) \n",
    "                elif type(key) == tuple:\n",
    "                    for j in key:\n",
    "                        newlist.append(j)\n",
    "                elif type(key) == list:\n",
    "                    for j in key:\n",
    "                        newlist.append(j)\n",
    "                elif type(key) == set:\n",
    "                    for j in key:\n",
    "                        newlist.append(j)\n",
    "                        \n",
    "                        #checking for dictonary values: of dictonary\n",
    "                        \n",
    "                if type(value) ==int:\n",
    "                    newlist.append(value)\n",
    "                elif type(value) == tuple:\n",
    "                    for j in value:\n",
    "                        newlist.append(j)\n",
    "                elif type(value) == list:\n",
    "                    for j in value:\n",
    "                        newlist.append(j)\n",
    "                elif type(value) == set:\n",
    "                    for j in value:\n",
    "                        newlist.append(j)\n",
    "    return newlist\n",
    "\n",
    "\n",
    "print(reduce(lambda x,y:x*y,filter_numbers(alist)))\n",
    "\n",
    "print(reduce(lambda x,y:x*y,filter_numbers(small_list)))\n",
    "    "
   ]
  },
  {
   "cell_type": "code",
   "execution_count": null,
   "id": "7b575be0",
   "metadata": {},
   "outputs": [],
   "source": []
  }
 ],
 "metadata": {
  "kernelspec": {
   "display_name": "Python 3 (ipykernel)",
   "language": "python",
   "name": "python3"
  },
  "language_info": {
   "codemirror_mode": {
    "name": "ipython",
    "version": 3
   },
   "file_extension": ".py",
   "mimetype": "text/x-python",
   "name": "python",
   "nbconvert_exporter": "python",
   "pygments_lexer": "ipython3",
   "version": "3.9.13"
  }
 },
 "nbformat": 4,
 "nbformat_minor": 5
}
