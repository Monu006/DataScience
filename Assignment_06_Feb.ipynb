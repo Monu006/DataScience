{
 "cells": [
  {
   "cell_type": "markdown",
   "id": "81a931fb",
   "metadata": {},
   "source": [
    "# Q1. Create a function which will take a list as an argument and return the product of all the numbers after creating a flat list. Use the below-given list as an argument for your function. Note: you must extract numeric keys and values of the dictionary also."
   ]
  },
  {
   "cell_type": "code",
   "execution_count": 159,
   "id": "9e8006e6",
   "metadata": {},
   "outputs": [
    {
     "name": "stdout",
     "output_type": "stream",
     "text": [
      "4134711838987085478833841242112000\n"
     ]
    }
   ],
   "source": [
    "from functools import reduce\n",
    "\n",
    "alist = [1,2,3,4, [44,55,66, True], False, (34,56,78,89,34), {1,2,3,3,2,1}, {1:34, \"key2\": [55, 67, 78, 89], 4: (45,\n",
    "22, 61, 34)}, [56, 'data science'], 'Machine Learning']\n",
    "\n",
    "\n",
    "small_list = [1,[1,'r,',5],{2,3},{'s':4, 'k':(1,6)},(1,7,1)]\n",
    "\n",
    "def filter_numbers(list1):\n",
    "    newlist = []\n",
    "    \n",
    "    for i in list1:\n",
    "        if type(i) == int:\n",
    "            newlist.append(i)\n",
    "            \n",
    "        elif isinstance(i,list) or isinstance(i,tuple) or isinstance(i,set):\n",
    "            newlist.extend(filter_numbers(i))\n",
    "            \n",
    "        elif type(i) == dict:\n",
    "            \n",
    "            for key,value in i.items():\n",
    "                if isinstance(key, int) or isinstance(key, float):\n",
    "                    newlist.append(key)         \n",
    "                if isinstance(value, int):\n",
    "                    newlist.append(value)\n",
    "                elif isinstance(value, list):\n",
    "                    newlist.extend(filter_numbers(value))\n",
    "                elif isinstance(value, tuple):\n",
    "                    newlist.extend(filter_numbers(value))\n",
    "                elif isinstance(value, set):\n",
    "                    newlist.extend(filter_numbers(value))\n",
    "\n",
    "    return newlist\n",
    "\n",
    "\n",
    "\n",
    "print(reduce(lambda x,y:x*y,filter_numbers(alist)))\n",
    "\n",
    "# print(reduce(lambda x,y:x*y,filter_numbers(small_list)))\n"
   ]
  },
  {
   "cell_type": "markdown",
   "id": "f53409f1",
   "metadata": {},
   "source": [
    "# Q2. Write a python program for encrypting a message sent to you by your friend. The logic of encryption should be such that, for a the output should be z. For b, the output should be y. For c, the output should be x respectively. Also, the whitespace should be replaced with a dollar sign. Keep the punctuation marks unchanged. Input Sentence: I want to become a Data Scientist. Encrypt the above input sentence using the program you just created."
   ]
  },
  {
   "cell_type": "code",
   "execution_count": 37,
   "id": "cea88489",
   "metadata": {},
   "outputs": [
    {
     "name": "stdout",
     "output_type": "stream",
     "text": [
      "a have been replaced with z\n",
      "b have been replaced with y\n",
      "c have been replaced with x\n",
      "d have been replaced with w\n",
      "e have been replaced with v\n",
      "f have been replaced with u\n",
      "g have been replaced with t\n",
      "h have been replaced with s\n",
      "i have been replaced with r\n",
      "j have been replaced with q\n",
      "k have been replaced with p\n",
      "l have been replaced with o\n",
      "m have been replaced with n\n",
      "n have been replaced with m\n",
      "o have been replaced with l\n",
      "p have been replaced with k\n",
      "q have been replaced with j\n",
      "r have been replaced with i\n",
      "s have been replaced with h\n",
      "t have been replaced with g\n",
      "u have been replaced with f\n",
      "v have been replaced with e\n",
      "w have been replaced with d\n",
      "x have been replaced with c\n",
      "y have been replaced with b\n",
      "z have been replaced with a\n",
      "i$damg$gl$beclme$a$daga$hciemgihg\n"
     ]
    }
   ],
   "source": [
    "string = 'I want to become a Data Scientist'.lower()\n",
    "# string = 'abcd'\n",
    "xlist=['a', 'b', 'c', 'd', 'e', 'f', 'g', 'h', 'i', 'j', 'k', 'l', 'm', 'n', 'o', 'p', 'q', 'r', 's', 't', 'u', 'v', 'w', 'x', 'y', 'z']\n",
    "j=25 \n",
    "count = 0\n",
    "\n",
    "for i in xlist:\n",
    "    if count<len(string):\n",
    "        print(i, 'have been replaced with', alist[j])\n",
    "        string = string.replace(i,alist[j])\n",
    "        j=j-1\n",
    "        count+=1 \n",
    "    else:\n",
    "        string = string.replace(\" \",'$')\n",
    "        break\n",
    "string = string.replace(\" \",'$')   \n",
    "print(string)"
   ]
  },
  {
   "cell_type": "code",
   "execution_count": null,
   "id": "4c707112",
   "metadata": {},
   "outputs": [],
   "source": []
  },
  {
   "cell_type": "code",
   "execution_count": null,
   "id": "dbc8f97d",
   "metadata": {},
   "outputs": [],
   "source": []
  },
  {
   "cell_type": "code",
   "execution_count": null,
   "id": "d232e47d",
   "metadata": {},
   "outputs": [],
   "source": []
  }
 ],
 "metadata": {
  "kernelspec": {
   "display_name": "Python 3 (ipykernel)",
   "language": "python",
   "name": "python3"
  },
  "language_info": {
   "codemirror_mode": {
    "name": "ipython",
    "version": 3
   },
   "file_extension": ".py",
   "mimetype": "text/x-python",
   "name": "python",
   "nbconvert_exporter": "python",
   "pygments_lexer": "ipython3",
   "version": "3.9.13"
  }
 },
 "nbformat": 4,
 "nbformat_minor": 5
}
