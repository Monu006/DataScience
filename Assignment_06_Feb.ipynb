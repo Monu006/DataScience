{
 "cells": [
  {
   "cell_type": "markdown",
   "id": "81a931fb",
   "metadata": {},
   "source": [
    "# Q1. Create a function which will take a list as an argument and return the product of all the numbers after creating a flat list. Use the below-given list as an argument for your function. Note: you must extract numeric keys and values of the dictionary also."
   ]
  },
  {
   "cell_type": "code",
   "execution_count": 159,
   "id": "9e8006e6",
   "metadata": {},
   "outputs": [
    {
     "name": "stdout",
     "output_type": "stream",
     "text": [
      "4134711838987085478833841242112000\n"
     ]
    }
   ],
   "source": [
    "from functools import reduce\n",
    "\n",
    "alist = [1,2,3,4, [44,55,66, True], False, (34,56,78,89,34), {1,2,3,3,2,1}, {1:34, \"key2\": [55, 67, 78, 89], 4: (45,\n",
    "22, 61, 34)}, [56, 'data science'], 'Machine Learning']\n",
    "\n",
    "\n",
    "small_list = [1,[1,'r,',5],{2,3},{'s':4, 'k':(1,6)},(1,7,1)]\n",
    "\n",
    "def filter_numbers(list1):\n",
    "    newlist = []\n",
    "    \n",
    "    for i in list1:\n",
    "        if type(i) == int:\n",
    "            newlist.append(i)\n",
    "            \n",
    "        elif isinstance(i,list) or isinstance(i,tuple) or isinstance(i,set):\n",
    "            newlist.extend(filter_numbers(i))\n",
    "            \n",
    "        elif type(i) == dict:\n",
    "            \n",
    "            for key,value in i.items():\n",
    "                if isinstance(key, int) or isinstance(key, float):\n",
    "                    newlist.append(key)         \n",
    "                if isinstance(value, int):\n",
    "                    newlist.append(value)\n",
    "                elif isinstance(value, list):\n",
    "                    newlist.extend(filter_numbers(value))\n",
    "                elif isinstance(value, tuple):\n",
    "                    newlist.extend(filter_numbers(value))\n",
    "                elif isinstance(value, set):\n",
    "                    newlist.extend(filter_numbers(value))\n",
    "\n",
    "    return newlist\n",
    "\n",
    "\n",
    "\n",
    "print(reduce(lambda x,y:x*y,filter_numbers(alist)))\n",
    "\n",
    "# print(reduce(lambda x,y:x*y,filter_numbers(small_list)))\n"
   ]
  },
  {
   "cell_type": "markdown",
   "id": "f53409f1",
   "metadata": {},
   "source": [
    "# Q2. Write a python program for encrypting a message sent to you by your friend. The logic of encryption should be such that, for a the output should be z. For b, the output should be y. For c, the output should be x respectively. Also, the whitespace should be replaced with a dollar sign. Keep the punctuation marks unchanged. Input Sentence: I want to become a Data Scientist. Encrypt the above input sentence using the program you just created."
   ]
  },
  {
   "cell_type": "code",
   "execution_count": 188,
   "id": "cea88489",
   "metadata": {},
   "outputs": [
    {
     "name": "stdout",
     "output_type": "stream",
     "text": [
      "['z', 'y', 'x', 'w', 'v', 'u', 't', 's', 'r', 'q', 'p', 'o', 'n', 'm', 'l', 'k', 'j', 'i', 'h', 'g', 'f', 'e', 'd', 'c', 'b', 'a']\n",
      "['a', 'b', 'c', 'd', 'e', 'f', 'g', 'h', 'i', 'j', 'k', 'l', 'm', 'n', 'o', 'p', 'q', 'r', 's', 't', 'u', 'v', 'w', 'x', 'y', 'z']\n"
     ]
    }
   ],
   "source": [
    "string = 'I want to become a Data Scientist'\n",
    "alist=['a', 'b', 'c', 'd', 'e', 'f', 'g', 'h', 'i', 'j', 'k', 'l', 'm', 'n', 'o', 'p', 'q', 'r', 's', 't', 'u', 'v', 'w', 'x', 'y', 'z']\n",
    "xlist = ['z', 'y', 'x', 'w', 'v', 'u', 't', 's', 'r', 'q', 'p', 'o', 'n', 'm', 'l', 'k', 'j', 'i', 'h', 'g', 'f', 'e', 'd', 'c', 'b', 'a']\n",
    "\n",
    "for i in s\n",
    "    \n",
    "\n",
    "\n",
    "# string1.replace(\"a\",'z')\n",
    "# string1.replace(\"b\",'y')\n",
    "# string1.replace(\"c\",'x')\n",
    "\n",
    "print(xlist)"
   ]
  },
  {
   "cell_type": "code",
   "execution_count": null,
   "id": "4c707112",
   "metadata": {},
   "outputs": [],
   "source": []
  },
  {
   "cell_type": "code",
   "execution_count": null,
   "id": "dbc8f97d",
   "metadata": {},
   "outputs": [],
   "source": []
  },
  {
   "cell_type": "code",
   "execution_count": null,
   "id": "d232e47d",
   "metadata": {},
   "outputs": [],
   "source": []
  }
 ],
 "metadata": {
  "kernelspec": {
   "display_name": "Python 3 (ipykernel)",
   "language": "python",
   "name": "python3"
  },
  "language_info": {
   "codemirror_mode": {
    "name": "ipython",
    "version": 3
   },
   "file_extension": ".py",
   "mimetype": "text/x-python",
   "name": "python",
   "nbconvert_exporter": "python",
   "pygments_lexer": "ipython3",
   "version": "3.9.13"
  }
 },
 "nbformat": 4,
 "nbformat_minor": 5
}
