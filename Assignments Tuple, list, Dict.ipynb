{
 "cells": [
  {
   "cell_type": "markdown",
   "id": "66a4b1fa-0250-4fac-8570-965b9bbf943b",
   "metadata": {},
   "source": [
    "# Q1. What are the characteristics of the tuples? Is tuple immutable?\n",
    "Tuple is a collection of different data types, which is ordered unchangable and allows duplicate value. Tuples are immutable."
   ]
  },
  {
   "cell_type": "markdown",
   "id": "8be59692-8bba-4cd7-b931-09f6f407f601",
   "metadata": {
    "tags": []
   },
   "source": [
    "# Q2. What are the two tuple methods in python? Give an example of each method. Give a reason why tuples have only two in-built methods as compared to Lists.\n",
    "Tuples are immutable, and have only Two tuple menthod are such as .count(), and .index(). Since, it's immutable it does not have method to retrive the data similar to list."
   ]
  },
  {
   "cell_type": "code",
   "execution_count": 7,
   "id": "1eddec87-3aca-498e-b407-addc3995bac3",
   "metadata": {},
   "outputs": [
    {
     "data": {
      "text/plain": [
       "5"
      ]
     },
     "execution_count": 7,
     "metadata": {},
     "output_type": "execute_result"
    }
   ],
   "source": [
    "atuple = (1,2,4,3,4,5,6,4, \"Monu\", \"INeuron\",4,\"Data Science\", 4)\n",
    "atuple.index('INeuron') #this will return the index of phrase INeuron\n",
    "atuple.count(4) # this will return the occurence of integer 4"
   ]
  },
  {
   "cell_type": "markdown",
   "id": "10e49b79-de53-414b-acd7-1d83dfe7e119",
   "metadata": {},
   "source": [
    "# Q3. Which collection datatypes in python do not allow duplicate items? Write a code using a set to remove duplicates from the given list.\n",
    "Set is the datatype that does not allows duplicate vallues."
   ]
  },
  {
   "cell_type": "code",
   "execution_count": 8,
   "id": "fa6b340b-87b8-4dd8-98ac-ea58a5f39b90",
   "metadata": {},
   "outputs": [
    {
     "data": {
      "text/plain": [
       "{1, 2, 3, 4}"
      ]
     },
     "execution_count": 8,
     "metadata": {},
     "output_type": "execute_result"
    }
   ],
   "source": [
    "alist = [1, 1, 1, 2, 1, 3, 1, 4, 2, 1, 2, 2, 2, 3, 2, 4, 3, 1, 3, 2, 3, 3, 3, 4, 4, 1, 4, 2, 4, 3, 4, 4] # intitally there are some repetitive values\n",
    "aset = set(alist) #converting list into tuple\n",
    "aset #upon converting into set redundant values has been removed."
   ]
  },
  {
   "cell_type": "markdown",
   "id": "9f2f58fa-cae4-4174-a37a-3a77f8e44163",
   "metadata": {},
   "source": [
    "# Q4. Explain the difference between the union() and update() methods for a set. Give an example of each method."
   ]
  },
  {
   "cell_type": "code",
   "execution_count": 9,
   "id": "6c017d49-ec0a-41e7-b99c-e42165cdcb2d",
   "metadata": {},
   "outputs": [
    {
     "data": {
      "text/plain": [
       "{1, 2, 3, 4, 5, 7}"
      ]
     },
     "execution_count": 9,
     "metadata": {},
     "output_type": "execute_result"
    }
   ],
   "source": [
    "s = {1, 2, 3} #set -1 with 3 elements\n",
    "set2 = {4,5,7,5} #set -2 with 3 elements\n",
    "s.update(set2) #set operation.\n",
    "s # set -1 has been update and the value of s has been changed."
   ]
  },
  {
   "cell_type": "code",
   "execution_count": 10,
   "id": "c15403a2-3f79-4a57-a201-86230caee25a",
   "metadata": {},
   "outputs": [
    {
     "data": {
      "text/plain": [
       "{1, 2, 3}"
      ]
     },
     "execution_count": 10,
     "metadata": {},
     "output_type": "execute_result"
    }
   ],
   "source": [
    "s = {1, 2, 3} #set -1 with 3 elements\n",
    "set2 = {4,5,7,5} #set -2 with 3 elements\n",
    "s.union(set2) # set union operation.\n",
    "s # the value of set 1 remains unchanged."
   ]
  },
  {
   "cell_type": "markdown",
   "id": "e7dde6e3-2501-473e-98a3-0ee37bc3eeb5",
   "metadata": {},
   "source": [
    "# Q5. What is a dictionary? Give an example. Also, state whether a dictionary is ordered or unordered.\n",
    "Dictionary is an ordered collection datatype in python. It comparise of two part one is key and other is value for every key there is a unique value."
   ]
  },
  {
   "cell_type": "code",
   "execution_count": 11,
   "id": "3fd95d04-6bff-4151-9e66-66a643819b3b",
   "metadata": {},
   "outputs": [
    {
     "data": {
      "text/plain": [
       "{'Name': 'Monu',\n",
       " 'Class': 'Data Science Impact',\n",
       " 'subjects': ['python', 'staticts', 'BI', 'MySQL']}"
      ]
     },
     "execution_count": 11,
     "metadata": {},
     "output_type": "execute_result"
    }
   ],
   "source": [
    "adict = {'Name':\"Monu\", 'Class': 'Data Science Impact', 'subjects': ['python','staticts','BI','MySQL']}\n",
    "\n",
    "adict"
   ]
  },
  {
   "cell_type": "code",
   "execution_count": null,
   "id": "913c66fb-0246-4fd1-acc5-9ebd0d0cdcfa",
   "metadata": {},
   "outputs": [],
   "source": [
    "# Q6. Can we create a nested dictionary? If so, please give an example by creating a simple one-level nested dictionary."
   ]
  },
  {
   "cell_type": "code",
   "execution_count": null,
   "id": "10cfe3fe-2859-4988-9f14-11a438edd19a",
   "metadata": {},
   "outputs": [],
   "source": []
  },
  {
   "cell_type": "code",
   "execution_count": null,
   "id": "2c027d98-1855-471a-bf82-c6bb87f12b76",
   "metadata": {},
   "outputs": [],
   "source": []
  }
 ],
 "metadata": {
  "kernelspec": {
   "display_name": "Python 3 (ipykernel)",
   "language": "python",
   "name": "python3"
  },
  "language_info": {
   "codemirror_mode": {
    "name": "ipython",
    "version": 3
   },
   "file_extension": ".py",
   "mimetype": "text/x-python",
   "name": "python",
   "nbconvert_exporter": "python",
   "pygments_lexer": "ipython3",
   "version": "3.10.8"
  },
  "toc-autonumbering": true,
  "toc-showcode": true,
  "toc-showmarkdowntxt": true
 },
 "nbformat": 4,
 "nbformat_minor": 5
}
